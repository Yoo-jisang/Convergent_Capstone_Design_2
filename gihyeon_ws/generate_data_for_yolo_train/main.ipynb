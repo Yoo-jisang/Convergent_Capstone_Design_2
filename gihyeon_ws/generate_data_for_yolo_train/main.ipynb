{
 "cells": [
  {
   "cell_type": "code",
   "execution_count": 1,
   "id": "5ba25245-4bc8-4a1e-83a7-55229140063d",
   "metadata": {},
   "outputs": [],
   "source": [
    "import json, os, cv2\n",
    "import numpy as np\n",
    "import xml.etree.ElementTree as ET\n",
    "from tqdm import tqdm"
   ]
  },
  {
   "cell_type": "markdown",
   "id": "08507ec7-fd01-41bc-963a-66e3062e9d2d",
   "metadata": {},
   "source": [
    "### 수집한 데이터"
   ]
  },
  {
   "cell_type": "code",
   "execution_count": 2,
   "id": "e21fd767-7d84-43ef-8821-4fa93cb0e63c",
   "metadata": {},
   "outputs": [],
   "source": [
    "data_type = 'collection'\n",
    "images_folder_path = './raw_data/collection/images/'\n",
    "json_path = './raw_data/collection/labels/total.json'\n",
    "save_folder_path = '/generated_data/'"
   ]
  },
  {
   "cell_type": "code",
   "execution_count": 3,
   "id": "57dc5623-562a-4dcc-9f7e-2f94622f9e6f",
   "metadata": {},
   "outputs": [],
   "source": [
    "with open(json_path, 'r') as f:\n",
    "    json_data = json.load(f)"
   ]
  },
  {
   "cell_type": "code",
   "execution_count": 4,
   "id": "035e2784-d073-45ef-bec1-547ce84fcecb",
   "metadata": {
    "scrolled": true
   },
   "outputs": [
    {
     "name": "stderr",
     "output_type": "stream",
     "text": [
      "generating yolo_format_data of collection: 100%|████████████████████████████████████████████| 326/326 [00:40<00:00,  8.14it/s]\n"
     ]
    }
   ],
   "source": [
    "for key in tqdm(list(json_data.keys()), desc=f'generating yolo_format_data of {data_type}'):\n",
    "    \n",
    "    img_name = json_data[key]['filename'].split('.')[0]\n",
    "    img_path = images_folder_path + img_name + '.JPG'\n",
    "    img = cv2.imread(img_path)\n",
    "    h_, w_ = img.shape[0], img.shape[1]\n",
    "\n",
    "    # images 생성\n",
    "    cv2.imwrite(f'.{save_folder_path}{data_type}/images/train/{img_name}.jpg', img)\n",
    "    \n",
    "    # labels 생성\n",
    "    bbox_regions = json_data[key]['regions']\n",
    "    f = open(f'.{save_folder_path}{data_type}/labels/train/{img_name}.txt', 'w')\n",
    "    for bbox_attr in bbox_regions:    \n",
    "        class_type = 0\n",
    "        \n",
    "        \n",
    "        x = round((bbox_attr['shape_attributes']['x'] + bbox_attr['shape_attributes']['width']//2)/w_, 4)\n",
    "        y = round((bbox_attr['shape_attributes']['y'] + bbox_attr['shape_attributes']['height']//2)/h_, 4)\n",
    "        w = round(bbox_attr['shape_attributes']['width']/w_, 4)\n",
    "        h = round(bbox_attr['shape_attributes']['height']/h_, 4)\n",
    "\n",
    "        text = '{} {} {} {} {}\\n'.format(str(class_type), str(x), str(y), str(w), str(h))\n",
    "        f.write(text)\n",
    "    f.close()\n",
    "\n",
    "    "
   ]
  },
  {
   "cell_type": "markdown",
   "id": "d9f6ffd9-bd1a-433d-bf7d-b6b67daf3eff",
   "metadata": {},
   "source": [
    "### 캐글 데이터"
   ]
  },
  {
   "cell_type": "code",
   "execution_count": 5,
   "id": "7b3c8b75-bf1d-4c01-9659-09c60b09695e",
   "metadata": {},
   "outputs": [],
   "source": [
    "data_type = 'kaggle'\n",
    "images_folder_path = './raw_data/kaggle/images/'\n",
    "xml_folder_path = './raw_data/kaggle/labels/'\n",
    "save_folder_path = '/generated_data/'"
   ]
  },
  {
   "cell_type": "code",
   "execution_count": 6,
   "id": "02a0591d-b5e7-424a-91b2-b1ba63413cd7",
   "metadata": {},
   "outputs": [
    {
     "name": "stderr",
     "output_type": "stream",
     "text": [
      "generating yolo_format_data of kaggle: 100%|████████████████████████████████████████████████| 433/433 [00:05<00:00, 85.35it/s]\n"
     ]
    }
   ],
   "source": [
    "for file_name in tqdm(os.listdir(images_folder_path), desc=f'generating yolo_format_data of {data_type}'):\n",
    "    img_name = file_name.split('.')[0]\n",
    "    img_path = images_folder_path + img_name + '.png'\n",
    "    img = cv2.imread(img_path)\n",
    "    h_, w_ = img.shape[0], img.shape[1]\n",
    "\n",
    "    # images 생성\n",
    "    cv2.imwrite(f'.{save_folder_path}{data_type}/images/train/{img_name}.jpg', img)\n",
    "    \n",
    "    xml_file_path = f'{xml_folder_path}{img_name}.xml'\n",
    "    root = ET.parse(xml_file_path).getroot()\n",
    "    f = open(f'.{save_folder_path}{data_type}/labels/train/{img_name}.txt', 'w')\n",
    "    for object_elem in root.findall('.//object'):\n",
    "        class_type = 0\n",
    "        xmin_elem  = object_elem.find('./bndbox/xmin')\n",
    "        ymin_elem  = object_elem.find('./bndbox/ymin')\n",
    "        xmax_elem  = object_elem.find('./bndbox/xmax')\n",
    "        ymax_elem  = object_elem.find('./bndbox/ymax')\n",
    "        \n",
    "        if xmin_elem is not None and ymin_elem is not None and xmax_elem is not None and ymax_elem is not None:\n",
    "            \n",
    "            \n",
    "            x = round(((int(xmax_elem.text) + int(xmin_elem.text))//2)//w_, 4)\n",
    "            y = round(((int(ymax_elem.text) + int(ymin_elem.text))//2)//h_, 4)\n",
    "            w = round((int(xmax_elem.text) - int(xmin_elem.text))/w_, 4)\n",
    "            h = round((int(ymax_elem.text) - int(ymin_elem.text))/w_, 4)\n",
    "            text = '{} {} {} {} {}\\n'.format(str(class_type), str(x), str(y), str(w), str(h))\n",
    "            f.write(text)\n",
    "    f.close()"
   ]
  },
  {
   "cell_type": "code",
   "execution_count": null,
   "id": "b6bbba4e-b52e-4b82-9d09-5512c4354674",
   "metadata": {},
   "outputs": [],
   "source": []
  }
 ],
 "metadata": {
  "kernelspec": {
   "display_name": "Python 3 (ipykernel)",
   "language": "python",
   "name": "python3"
  },
  "language_info": {
   "codemirror_mode": {
    "name": "ipython",
    "version": 3
   },
   "file_extension": ".py",
   "mimetype": "text/x-python",
   "name": "python",
   "nbconvert_exporter": "python",
   "pygments_lexer": "ipython3",
   "version": "3.8.16"
  }
 },
 "nbformat": 4,
 "nbformat_minor": 5
}
